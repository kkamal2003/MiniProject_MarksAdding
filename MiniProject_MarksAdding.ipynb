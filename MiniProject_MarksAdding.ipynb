{
  "nbformat": 4,
  "nbformat_minor": 0,
  "metadata": {
    "colab": {
      "provenance": [],
      "authorship_tag": "ABX9TyNIFW0owkpa5fCVRgC8kDbu",
      "include_colab_link": true
    },
    "kernelspec": {
      "name": "python3",
      "display_name": "Python 3"
    },
    "language_info": {
      "name": "python"
    }
  },
  "cells": [
    {
      "cell_type": "markdown",
      "metadata": {
        "id": "view-in-github",
        "colab_type": "text"
      },
      "source": [
        "<a href=\"https://colab.research.google.com/github/kkamal2003/MiniProject_MarksAdding/blob/main/MiniProject_MarksAdding.ipynb\" target=\"_parent\"><img src=\"https://colab.research.google.com/assets/colab-badge.svg\" alt=\"Open In Colab\"/></a>"
      ]
    },
    {
      "cell_type": "markdown",
      "source": [
        "• Input file contain Roll numbers and marks.\n",
        "\n",
        "• Create output file that add all the marks"
      ],
      "metadata": {
        "id": "D5bGSEV3UdCd"
      }
    },
    {
      "cell_type": "code",
      "execution_count": 11,
      "metadata": {
        "id": "z8e_iNvcRXSG",
        "colab": {
          "base_uri": "https://localhost:8080/"
        },
        "outputId": "cfde3093-57ea-4df4-9d74-e3acc347ef1c"
      },
      "outputs": [
        {
          "output_type": "execute_result",
          "data": {
            "text/plain": [
              "Roll Num\n",
              "102003001    3\n",
              "102003002    5\n",
              "102003017    5\n",
              "102003018    5\n",
              "102003029    5\n",
              "            ..\n",
              "102196010    4\n",
              "102197016    5\n",
              "102197018    4\n",
              "102197019    5\n",
              "102197021    5\n",
              "Name: Marks, Length: 400, dtype: int64"
            ]
          },
          "metadata": {},
          "execution_count": 11
        }
      ],
      "source": [
        "import pandas as pd\n",
        "df = pd.read_csv('Mini Project - Marks Adding.csv')\n",
        "df1 = df.groupby(['Roll Num'])['Marks'].sum()\n",
        "df1.to_csv(\"FINALMARKSFILE.csv\");\n",
        "df1"
      ]
    }
  ]
}